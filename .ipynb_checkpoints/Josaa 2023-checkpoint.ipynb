{
 "cells": [
  {
   "cell_type": "code",
   "execution_count": 1,
   "id": "cf2b8de3",
   "metadata": {},
   "outputs": [],
   "source": [
    "import numpy as np\n",
    "import matplotlib.pyplot as plt\n",
    "import seaborn as sns\n",
    "import plotly as px\n",
    "import pandas as pd"
   ]
  },
  {
   "cell_type": "code",
   "execution_count": 2,
   "id": "60b5eaa2",
   "metadata": {},
   "outputs": [],
   "source": [
    "df_round1 = pd.read_csv(\"archive\\Round_1.csv\")"
   ]
  },
  {
   "cell_type": "code",
   "execution_count": 3,
   "id": "f70142b2",
   "metadata": {
    "scrolled": true
   },
   "outputs": [
    {
     "data": {
      "text/html": [
       "<div>\n",
       "<style scoped>\n",
       "    .dataframe tbody tr th:only-of-type {\n",
       "        vertical-align: middle;\n",
       "    }\n",
       "\n",
       "    .dataframe tbody tr th {\n",
       "        vertical-align: top;\n",
       "    }\n",
       "\n",
       "    .dataframe thead th {\n",
       "        text-align: right;\n",
       "    }\n",
       "</style>\n",
       "<table border=\"1\" class=\"dataframe\">\n",
       "  <thead>\n",
       "    <tr style=\"text-align: right;\">\n",
       "      <th></th>\n",
       "      <th>Institute</th>\n",
       "      <th>Academic Program Name</th>\n",
       "      <th>Quota</th>\n",
       "      <th>Seat Type</th>\n",
       "      <th>Gender</th>\n",
       "      <th>Opening Rank</th>\n",
       "      <th>Closing Rank</th>\n",
       "    </tr>\n",
       "  </thead>\n",
       "  <tbody>\n",
       "    <tr>\n",
       "      <th>0</th>\n",
       "      <td>Indian Institute  of Technology Bhubaneswar</td>\n",
       "      <td>Civil Engineering (4 Years, Bachelor of Techno...</td>\n",
       "      <td>AI</td>\n",
       "      <td>OPEN</td>\n",
       "      <td>Gender-Neutral</td>\n",
       "      <td>9462</td>\n",
       "      <td>12911</td>\n",
       "    </tr>\n",
       "    <tr>\n",
       "      <th>1</th>\n",
       "      <td>Indian Institute  of Technology Bhubaneswar</td>\n",
       "      <td>Civil Engineering (4 Years, Bachelor of Techno...</td>\n",
       "      <td>AI</td>\n",
       "      <td>OPEN</td>\n",
       "      <td>Female-only (including Supernumerary)</td>\n",
       "      <td>16218</td>\n",
       "      <td>19272</td>\n",
       "    </tr>\n",
       "    <tr>\n",
       "      <th>2</th>\n",
       "      <td>Indian Institute  of Technology Bhubaneswar</td>\n",
       "      <td>Civil Engineering (4 Years, Bachelor of Techno...</td>\n",
       "      <td>AI</td>\n",
       "      <td>EWS</td>\n",
       "      <td>Gender-Neutral</td>\n",
       "      <td>1852</td>\n",
       "      <td>1977</td>\n",
       "    </tr>\n",
       "    <tr>\n",
       "      <th>3</th>\n",
       "      <td>Indian Institute  of Technology Bhubaneswar</td>\n",
       "      <td>Civil Engineering (4 Years, Bachelor of Techno...</td>\n",
       "      <td>AI</td>\n",
       "      <td>EWS</td>\n",
       "      <td>Female-only (including Supernumerary)</td>\n",
       "      <td>3056</td>\n",
       "      <td>3056</td>\n",
       "    </tr>\n",
       "    <tr>\n",
       "      <th>4</th>\n",
       "      <td>Indian Institute  of Technology Bhubaneswar</td>\n",
       "      <td>Civil Engineering (4 Years, Bachelor of Techno...</td>\n",
       "      <td>AI</td>\n",
       "      <td>OBC-NCL</td>\n",
       "      <td>Gender-Neutral</td>\n",
       "      <td>4014</td>\n",
       "      <td>4642</td>\n",
       "    </tr>\n",
       "  </tbody>\n",
       "</table>\n",
       "</div>"
      ],
      "text/plain": [
       "                                     Institute  \\\n",
       "0  Indian Institute  of Technology Bhubaneswar   \n",
       "1  Indian Institute  of Technology Bhubaneswar   \n",
       "2  Indian Institute  of Technology Bhubaneswar   \n",
       "3  Indian Institute  of Technology Bhubaneswar   \n",
       "4  Indian Institute  of Technology Bhubaneswar   \n",
       "\n",
       "                               Academic Program Name Quota Seat Type  \\\n",
       "0  Civil Engineering (4 Years, Bachelor of Techno...    AI      OPEN   \n",
       "1  Civil Engineering (4 Years, Bachelor of Techno...    AI      OPEN   \n",
       "2  Civil Engineering (4 Years, Bachelor of Techno...    AI       EWS   \n",
       "3  Civil Engineering (4 Years, Bachelor of Techno...    AI       EWS   \n",
       "4  Civil Engineering (4 Years, Bachelor of Techno...    AI   OBC-NCL   \n",
       "\n",
       "                                  Gender Opening Rank Closing Rank  \n",
       "0                         Gender-Neutral         9462        12911  \n",
       "1  Female-only (including Supernumerary)        16218        19272  \n",
       "2                         Gender-Neutral         1852         1977  \n",
       "3  Female-only (including Supernumerary)         3056         3056  \n",
       "4                         Gender-Neutral         4014         4642  "
      ]
     },
     "execution_count": 3,
     "metadata": {},
     "output_type": "execute_result"
    }
   ],
   "source": [
    "df_round1.head()"
   ]
  },
  {
   "cell_type": "code",
   "execution_count": 4,
   "id": "bae0bd5a",
   "metadata": {},
   "outputs": [],
   "source": [
    "df_round1= df_round1[~df_round1['Seat Type'].str.contains('PwD')]"
   ]
  },
  {
   "cell_type": "code",
   "execution_count": 5,
   "id": "572a0f0b",
   "metadata": {},
   "outputs": [],
   "source": [
    "df_round1 = df_round1.reset_index(drop=True)"
   ]
  },
  {
   "cell_type": "code",
   "execution_count": 6,
   "id": "539f537c",
   "metadata": {},
   "outputs": [
    {
     "name": "stdout",
     "output_type": "stream",
     "text": [
      "<class 'pandas.core.frame.DataFrame'>\n",
      "RangeIndex: 9485 entries, 0 to 9484\n",
      "Data columns (total 7 columns):\n",
      " #   Column                 Non-Null Count  Dtype \n",
      "---  ------                 --------------  ----- \n",
      " 0   Institute              9485 non-null   object\n",
      " 1   Academic Program Name  9485 non-null   object\n",
      " 2   Quota                  9485 non-null   object\n",
      " 3   Seat Type              9485 non-null   object\n",
      " 4   Gender                 9485 non-null   object\n",
      " 5   Opening Rank           9485 non-null   object\n",
      " 6   Closing Rank           9485 non-null   object\n",
      "dtypes: object(7)\n",
      "memory usage: 518.8+ KB\n"
     ]
    }
   ],
   "source": [
    "df_round1.info()"
   ]
  },
  {
   "cell_type": "code",
   "execution_count": 7,
   "id": "db6c294c",
   "metadata": {},
   "outputs": [
    {
     "name": "stdout",
     "output_type": "stream",
     "text": [
      "There are total of 211 academic programs offered through Josaa.\n"
     ]
    }
   ],
   "source": [
    "x = df_round1[\"Academic Program Name\"].nunique()\n",
    "print(f\"There are total of {x} academic programs offered through Josaa.\")"
   ]
  },
  {
   "cell_type": "code",
   "execution_count": 8,
   "id": "ca51f036",
   "metadata": {},
   "outputs": [],
   "source": [
    "df_round1['Opening Rank'] = df_round1['Opening Rank'].str.replace(r'P', '', regex=True)"
   ]
  },
  {
   "cell_type": "code",
   "execution_count": 9,
   "id": "c2c8ddb2",
   "metadata": {},
   "outputs": [],
   "source": [
    "df_round1['Opening Rank'] = pd.to_numeric(df_round1['Opening Rank'])"
   ]
  },
  {
   "cell_type": "code",
   "execution_count": 10,
   "id": "a02e610d",
   "metadata": {},
   "outputs": [
    {
     "name": "stdout",
     "output_type": "stream",
     "text": [
      "<class 'pandas.core.frame.DataFrame'>\n",
      "RangeIndex: 9485 entries, 0 to 9484\n",
      "Data columns (total 7 columns):\n",
      " #   Column                 Non-Null Count  Dtype \n",
      "---  ------                 --------------  ----- \n",
      " 0   Institute              9485 non-null   object\n",
      " 1   Academic Program Name  9485 non-null   object\n",
      " 2   Quota                  9485 non-null   object\n",
      " 3   Seat Type              9485 non-null   object\n",
      " 4   Gender                 9485 non-null   object\n",
      " 5   Opening Rank           9485 non-null   int64 \n",
      " 6   Closing Rank           9485 non-null   object\n",
      "dtypes: int64(1), object(6)\n",
      "memory usage: 518.8+ KB\n"
     ]
    }
   ],
   "source": [
    "df_round1.info()"
   ]
  },
  {
   "cell_type": "code",
   "execution_count": 11,
   "id": "4588f0c9",
   "metadata": {},
   "outputs": [],
   "source": [
    "df_round1['Closing Rank'] = df_round1['Closing Rank'].str.replace(r'P', '', regex=True)"
   ]
  },
  {
   "cell_type": "code",
   "execution_count": 12,
   "id": "f4d2c72c",
   "metadata": {},
   "outputs": [],
   "source": [
    "df_round1['Closing Rank'] = pd.to_numeric(df_round1['Closing Rank'])"
   ]
  },
  {
   "cell_type": "code",
   "execution_count": 13,
   "id": "8e07815d",
   "metadata": {},
   "outputs": [
    {
     "name": "stdout",
     "output_type": "stream",
     "text": [
      "<class 'pandas.core.frame.DataFrame'>\n",
      "RangeIndex: 9485 entries, 0 to 9484\n",
      "Data columns (total 7 columns):\n",
      " #   Column                 Non-Null Count  Dtype \n",
      "---  ------                 --------------  ----- \n",
      " 0   Institute              9485 non-null   object\n",
      " 1   Academic Program Name  9485 non-null   object\n",
      " 2   Quota                  9485 non-null   object\n",
      " 3   Seat Type              9485 non-null   object\n",
      " 4   Gender                 9485 non-null   object\n",
      " 5   Opening Rank           9485 non-null   int64 \n",
      " 6   Closing Rank           9485 non-null   int64 \n",
      "dtypes: int64(2), object(5)\n",
      "memory usage: 518.8+ KB\n"
     ]
    }
   ],
   "source": [
    "df_round1.info()"
   ]
  },
  {
   "cell_type": "code",
   "execution_count": 14,
   "id": "d4732a13",
   "metadata": {},
   "outputs": [],
   "source": [
    "sorted_opening = df_round1.sort_values(by='Opening Rank')"
   ]
  },
  {
   "cell_type": "code",
   "execution_count": 15,
   "id": "713df90e",
   "metadata": {},
   "outputs": [
    {
     "data": {
      "text/html": [
       "<div>\n",
       "<style scoped>\n",
       "    .dataframe tbody tr th:only-of-type {\n",
       "        vertical-align: middle;\n",
       "    }\n",
       "\n",
       "    .dataframe tbody tr th {\n",
       "        vertical-align: top;\n",
       "    }\n",
       "\n",
       "    .dataframe thead th {\n",
       "        text-align: right;\n",
       "    }\n",
       "</style>\n",
       "<table border=\"1\" class=\"dataframe\">\n",
       "  <thead>\n",
       "    <tr style=\"text-align: right;\">\n",
       "      <th></th>\n",
       "      <th>Institute</th>\n",
       "      <th>Academic Program Name</th>\n",
       "      <th>Quota</th>\n",
       "      <th>Seat Type</th>\n",
       "      <th>Gender</th>\n",
       "      <th>Opening Rank</th>\n",
       "      <th>Closing Rank</th>\n",
       "    </tr>\n",
       "  </thead>\n",
       "  <tbody>\n",
       "    <tr>\n",
       "      <th>186</th>\n",
       "      <td>Indian Institute  of Technology Bombay</td>\n",
       "      <td>Computer Science and Engineering (4 Years, Bac...</td>\n",
       "      <td>AI</td>\n",
       "      <td>ST</td>\n",
       "      <td>Gender-Neutral</td>\n",
       "      <td>1</td>\n",
       "      <td>10</td>\n",
       "    </tr>\n",
       "    <tr>\n",
       "      <th>178</th>\n",
       "      <td>Indian Institute  of Technology Bombay</td>\n",
       "      <td>Computer Science and Engineering (4 Years, Bac...</td>\n",
       "      <td>AI</td>\n",
       "      <td>OPEN</td>\n",
       "      <td>Gender-Neutral</td>\n",
       "      <td>1</td>\n",
       "      <td>66</td>\n",
       "    </tr>\n",
       "    <tr>\n",
       "      <th>8949</th>\n",
       "      <td>School of Planning &amp; Architecture, New Delhi</td>\n",
       "      <td>Architecture  (5 Years, Bachelor of Architecture)</td>\n",
       "      <td>AI</td>\n",
       "      <td>ST</td>\n",
       "      <td>Gender-Neutral</td>\n",
       "      <td>1</td>\n",
       "      <td>23</td>\n",
       "    </tr>\n",
       "    <tr>\n",
       "      <th>184</th>\n",
       "      <td>Indian Institute  of Technology Bombay</td>\n",
       "      <td>Computer Science and Engineering (4 Years, Bac...</td>\n",
       "      <td>AI</td>\n",
       "      <td>SC</td>\n",
       "      <td>Gender-Neutral</td>\n",
       "      <td>2</td>\n",
       "      <td>25</td>\n",
       "    </tr>\n",
       "    <tr>\n",
       "      <th>3821</th>\n",
       "      <td>National Institute of Technology Calicut</td>\n",
       "      <td>Architecture  (5 Years, Bachelor of Architecture)</td>\n",
       "      <td>HS</td>\n",
       "      <td>SC</td>\n",
       "      <td>Gender-Neutral</td>\n",
       "      <td>5</td>\n",
       "      <td>145</td>\n",
       "    </tr>\n",
       "    <tr>\n",
       "      <th>...</th>\n",
       "      <td>...</td>\n",
       "      <td>...</td>\n",
       "      <td>...</td>\n",
       "      <td>...</td>\n",
       "      <td>...</td>\n",
       "      <td>...</td>\n",
       "      <td>...</td>\n",
       "    </tr>\n",
       "    <tr>\n",
       "      <th>6063</th>\n",
       "      <td>National Institute of Technology, Mizoram</td>\n",
       "      <td>Mechanical Engineering (4 Years, Bachelor of T...</td>\n",
       "      <td>HS</td>\n",
       "      <td>OPEN</td>\n",
       "      <td>Gender-Neutral</td>\n",
       "      <td>556736</td>\n",
       "      <td>742762</td>\n",
       "    </tr>\n",
       "    <tr>\n",
       "      <th>6033</th>\n",
       "      <td>National Institute of Technology, Mizoram</td>\n",
       "      <td>Electrical Engineering (4 Years, Bachelor of T...</td>\n",
       "      <td>HS</td>\n",
       "      <td>OPEN</td>\n",
       "      <td>Female-only (including Supernumerary)</td>\n",
       "      <td>560594</td>\n",
       "      <td>614925</td>\n",
       "    </tr>\n",
       "    <tr>\n",
       "      <th>6045</th>\n",
       "      <td>National Institute of Technology, Mizoram</td>\n",
       "      <td>Electronics and Communication Engineering (4 Y...</td>\n",
       "      <td>HS</td>\n",
       "      <td>OPEN</td>\n",
       "      <td>Gender-Neutral</td>\n",
       "      <td>573968</td>\n",
       "      <td>684517</td>\n",
       "    </tr>\n",
       "    <tr>\n",
       "      <th>6046</th>\n",
       "      <td>National Institute of Technology, Mizoram</td>\n",
       "      <td>Electronics and Communication Engineering (4 Y...</td>\n",
       "      <td>HS</td>\n",
       "      <td>OPEN</td>\n",
       "      <td>Female-only (including Supernumerary)</td>\n",
       "      <td>589620</td>\n",
       "      <td>755659</td>\n",
       "    </tr>\n",
       "    <tr>\n",
       "      <th>6064</th>\n",
       "      <td>National Institute of Technology, Mizoram</td>\n",
       "      <td>Mechanical Engineering (4 Years, Bachelor of T...</td>\n",
       "      <td>HS</td>\n",
       "      <td>OPEN</td>\n",
       "      <td>Female-only (including Supernumerary)</td>\n",
       "      <td>659805</td>\n",
       "      <td>758764</td>\n",
       "    </tr>\n",
       "  </tbody>\n",
       "</table>\n",
       "<p>9485 rows × 7 columns</p>\n",
       "</div>"
      ],
      "text/plain": [
       "                                         Institute  \\\n",
       "186         Indian Institute  of Technology Bombay   \n",
       "178         Indian Institute  of Technology Bombay   \n",
       "8949  School of Planning & Architecture, New Delhi   \n",
       "184         Indian Institute  of Technology Bombay   \n",
       "3821      National Institute of Technology Calicut   \n",
       "...                                            ...   \n",
       "6063     National Institute of Technology, Mizoram   \n",
       "6033     National Institute of Technology, Mizoram   \n",
       "6045     National Institute of Technology, Mizoram   \n",
       "6046     National Institute of Technology, Mizoram   \n",
       "6064     National Institute of Technology, Mizoram   \n",
       "\n",
       "                                  Academic Program Name Quota Seat Type  \\\n",
       "186   Computer Science and Engineering (4 Years, Bac...    AI        ST   \n",
       "178   Computer Science and Engineering (4 Years, Bac...    AI      OPEN   \n",
       "8949  Architecture  (5 Years, Bachelor of Architecture)    AI        ST   \n",
       "184   Computer Science and Engineering (4 Years, Bac...    AI        SC   \n",
       "3821  Architecture  (5 Years, Bachelor of Architecture)    HS        SC   \n",
       "...                                                 ...   ...       ...   \n",
       "6063  Mechanical Engineering (4 Years, Bachelor of T...    HS      OPEN   \n",
       "6033  Electrical Engineering (4 Years, Bachelor of T...    HS      OPEN   \n",
       "6045  Electronics and Communication Engineering (4 Y...    HS      OPEN   \n",
       "6046  Electronics and Communication Engineering (4 Y...    HS      OPEN   \n",
       "6064  Mechanical Engineering (4 Years, Bachelor of T...    HS      OPEN   \n",
       "\n",
       "                                     Gender  Opening Rank  Closing Rank  \n",
       "186                          Gender-Neutral             1            10  \n",
       "178                          Gender-Neutral             1            66  \n",
       "8949                         Gender-Neutral             1            23  \n",
       "184                          Gender-Neutral             2            25  \n",
       "3821                         Gender-Neutral             5           145  \n",
       "...                                     ...           ...           ...  \n",
       "6063                         Gender-Neutral        556736        742762  \n",
       "6033  Female-only (including Supernumerary)        560594        614925  \n",
       "6045                         Gender-Neutral        573968        684517  \n",
       "6046  Female-only (including Supernumerary)        589620        755659  \n",
       "6064  Female-only (including Supernumerary)        659805        758764  \n",
       "\n",
       "[9485 rows x 7 columns]"
      ]
     },
     "execution_count": 15,
     "metadata": {},
     "output_type": "execute_result"
    }
   ],
   "source": [
    "sorted_opening"
   ]
  },
  {
   "cell_type": "code",
   "execution_count": 16,
   "id": "f86f4915",
   "metadata": {},
   "outputs": [],
   "source": [
    "nit_trichy = df_round1[df_round1[\"Institute\"] == \"National Institute of Technology, Tiruchirappalli\"]"
   ]
  },
  {
   "cell_type": "code",
   "execution_count": 17,
   "id": "0f9a9d17",
   "metadata": {},
   "outputs": [
    {
     "data": {
      "text/plain": [
       "Institute                  1\n",
       "Academic Program Name     10\n",
       "Quota                      2\n",
       "Seat Type                  5\n",
       "Gender                     2\n",
       "Opening Rank             192\n",
       "Closing Rank             193\n",
       "dtype: int64"
      ]
     },
     "execution_count": 17,
     "metadata": {},
     "output_type": "execute_result"
    }
   ],
   "source": [
    "nit_trichy.nunique()"
   ]
  },
  {
   "cell_type": "code",
   "execution_count": 18,
   "id": "b9f56c5a",
   "metadata": {},
   "outputs": [],
   "source": [
    "sorted_NIT_TRICHY = nit_trichy.sort_values(by='Opening Rank')"
   ]
  },
  {
   "cell_type": "code",
   "execution_count": 19,
   "id": "cb2c3f21",
   "metadata": {},
   "outputs": [
    {
     "data": {
      "text/html": [
       "<div>\n",
       "<style scoped>\n",
       "    .dataframe tbody tr th:only-of-type {\n",
       "        vertical-align: middle;\n",
       "    }\n",
       "\n",
       "    .dataframe tbody tr th {\n",
       "        vertical-align: top;\n",
       "    }\n",
       "\n",
       "    .dataframe thead th {\n",
       "        text-align: right;\n",
       "    }\n",
       "</style>\n",
       "<table border=\"1\" class=\"dataframe\">\n",
       "  <thead>\n",
       "    <tr style=\"text-align: right;\">\n",
       "      <th></th>\n",
       "      <th>Institute</th>\n",
       "      <th>Academic Program Name</th>\n",
       "      <th>Quota</th>\n",
       "      <th>Seat Type</th>\n",
       "      <th>Gender</th>\n",
       "      <th>Opening Rank</th>\n",
       "      <th>Closing Rank</th>\n",
       "    </tr>\n",
       "  </thead>\n",
       "  <tbody>\n",
       "    <tr>\n",
       "      <th>6717</th>\n",
       "      <td>National Institute of Technology, Tiruchirappalli</td>\n",
       "      <td>Architecture  (5 Years, Bachelor of Architecture)</td>\n",
       "      <td>HS</td>\n",
       "      <td>SC</td>\n",
       "      <td>Female-only (including Supernumerary)</td>\n",
       "      <td>13</td>\n",
       "      <td>13</td>\n",
       "    </tr>\n",
       "    <tr>\n",
       "      <th>6726</th>\n",
       "      <td>National Institute of Technology, Tiruchirappalli</td>\n",
       "      <td>Architecture  (5 Years, Bachelor of Architecture)</td>\n",
       "      <td>OS</td>\n",
       "      <td>ST</td>\n",
       "      <td>Gender-Neutral</td>\n",
       "      <td>21</td>\n",
       "      <td>21</td>\n",
       "    </tr>\n",
       "    <tr>\n",
       "      <th>6727</th>\n",
       "      <td>National Institute of Technology, Tiruchirappalli</td>\n",
       "      <td>Architecture  (5 Years, Bachelor of Architecture)</td>\n",
       "      <td>OS</td>\n",
       "      <td>ST</td>\n",
       "      <td>Female-only (including Supernumerary)</td>\n",
       "      <td>26</td>\n",
       "      <td>26</td>\n",
       "    </tr>\n",
       "    <tr>\n",
       "      <th>6725</th>\n",
       "      <td>National Institute of Technology, Tiruchirappalli</td>\n",
       "      <td>Architecture  (5 Years, Bachelor of Architecture)</td>\n",
       "      <td>OS</td>\n",
       "      <td>SC</td>\n",
       "      <td>Female-only (including Supernumerary)</td>\n",
       "      <td>29</td>\n",
       "      <td>29</td>\n",
       "    </tr>\n",
       "    <tr>\n",
       "      <th>6783</th>\n",
       "      <td>National Institute of Technology, Tiruchirappalli</td>\n",
       "      <td>Computer Science and Engineering (4 Years, Bac...</td>\n",
       "      <td>OS</td>\n",
       "      <td>SC</td>\n",
       "      <td>Gender-Neutral</td>\n",
       "      <td>39</td>\n",
       "      <td>268</td>\n",
       "    </tr>\n",
       "  </tbody>\n",
       "</table>\n",
       "</div>"
      ],
      "text/plain": [
       "                                              Institute  \\\n",
       "6717  National Institute of Technology, Tiruchirappalli   \n",
       "6726  National Institute of Technology, Tiruchirappalli   \n",
       "6727  National Institute of Technology, Tiruchirappalli   \n",
       "6725  National Institute of Technology, Tiruchirappalli   \n",
       "6783  National Institute of Technology, Tiruchirappalli   \n",
       "\n",
       "                                  Academic Program Name Quota Seat Type  \\\n",
       "6717  Architecture  (5 Years, Bachelor of Architecture)    HS        SC   \n",
       "6726  Architecture  (5 Years, Bachelor of Architecture)    OS        ST   \n",
       "6727  Architecture  (5 Years, Bachelor of Architecture)    OS        ST   \n",
       "6725  Architecture  (5 Years, Bachelor of Architecture)    OS        SC   \n",
       "6783  Computer Science and Engineering (4 Years, Bac...    OS        SC   \n",
       "\n",
       "                                     Gender  Opening Rank  Closing Rank  \n",
       "6717  Female-only (including Supernumerary)            13            13  \n",
       "6726                         Gender-Neutral            21            21  \n",
       "6727  Female-only (including Supernumerary)            26            26  \n",
       "6725  Female-only (including Supernumerary)            29            29  \n",
       "6783                         Gender-Neutral            39           268  "
      ]
     },
     "execution_count": 19,
     "metadata": {},
     "output_type": "execute_result"
    }
   ],
   "source": [
    "sorted_NIT_TRICHY.head()"
   ]
  },
  {
   "cell_type": "code",
   "execution_count": null,
   "id": "6c585100",
   "metadata": {},
   "outputs": [],
   "source": [
    "open_NIT_trichy = [df['Category'] == target_category]"
   ]
  }
 ],
 "metadata": {
  "kernelspec": {
   "display_name": "Python 3 (ipykernel)",
   "language": "python",
   "name": "python3"
  },
  "language_info": {
   "codemirror_mode": {
    "name": "ipython",
    "version": 3
   },
   "file_extension": ".py",
   "mimetype": "text/x-python",
   "name": "python",
   "nbconvert_exporter": "python",
   "pygments_lexer": "ipython3",
   "version": "3.11.5"
  }
 },
 "nbformat": 4,
 "nbformat_minor": 5
}
